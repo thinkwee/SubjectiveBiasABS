{
 "cells": [
  {
   "cell_type": "code",
   "execution_count": 1,
   "metadata": {
    "ExecuteTime": {
     "end_time": "2020-01-11T13:39:25.699933Z",
     "start_time": "2020-01-11T13:39:25.693706Z"
    }
   },
   "outputs": [],
   "source": [
    "import re"
   ]
  },
  {
   "cell_type": "markdown",
   "metadata": {},
   "source": [
    "# collect results from different clusters"
   ]
  },
  {
   "cell_type": "code",
   "execution_count": 2,
   "metadata": {
    "ExecuteTime": {
     "end_time": "2020-01-11T13:40:15.532525Z",
     "start_time": "2020-01-11T13:40:15.093738Z"
    }
   },
   "outputs": [],
   "source": [
    "for i in range(4):\n",
    "    src = [\"\" for _ in range(11490)]\n",
    "    ref = [\"\" for _ in range(11490)]\n",
    "    pred = [\"\" for _ in range(11490)]\n",
    "    \n",
    "    with open(\"./fairseq/cnndm_\" + str(i) + \".log\",\"r\") as f:\n",
    "        for line in f:\n",
    "            if line[0]=='S':\n",
    "                num = int(line.split(\"\\t\")[0].split(\"-\")[1])\n",
    "                article = line.split(\"\\t\")[1:][0]\n",
    "                src[num] = article\n",
    "            if line[0]=='T':\n",
    "                num = int(line.split(\"\\t\")[0].split(\"-\")[1])\n",
    "                gold = line.split(\"\\t\")[1:][0]\n",
    "                ref[num] = gold\n",
    "            if line[0]=='H':\n",
    "                num = int(line.split(\"\\t\")[0].split(\"-\")[1])\n",
    "                summary = line.split(\"\\t\")[2:][0]\n",
    "                pred[num] = summary\n",
    "    with open(\"./result/subjective_bias/pred_cnndm_\" + str(i) + \".txt\",\"w\") as f:\n",
    "        for s in pred:\n",
    "            f.write(s)              "
   ]
  },
  {
   "cell_type": "code",
   "execution_count": 3,
   "metadata": {
    "ExecuteTime": {
     "end_time": "2020-01-11T13:40:19.436523Z",
     "start_time": "2020-01-11T13:40:19.222183Z"
    }
   },
   "outputs": [],
   "source": [
    "for i in [\"random\",\"ratio\"]:\n",
    "    src = [\"\" for _ in range(11490)]\n",
    "    ref = [\"\" for _ in range(11490)]\n",
    "    pred = [\"\" for _ in range(11490)]\n",
    "    \n",
    "    with open(\"./fairseq/cnndm_\" + i + \".log\",\"r\") as f:\n",
    "        for line in f:\n",
    "            if line[0]=='S':\n",
    "                num = int(line.split(\"\\t\")[0].split(\"-\")[1])\n",
    "                article = line.split(\"\\t\")[1:][0]\n",
    "                src[num] = article\n",
    "            if line[0]=='T':\n",
    "                num = int(line.split(\"\\t\")[0].split(\"-\")[1])\n",
    "                gold = line.split(\"\\t\")[1:][0]\n",
    "                ref[num] = gold\n",
    "            if line[0]=='H':\n",
    "                num = int(line.split(\"\\t\")[0].split(\"-\")[1])\n",
    "                summary = line.split(\"\\t\")[2:][0]\n",
    "                pred[num] = summary\n",
    "    with open(\"./result/subjective_bias/pred_cnndm_\" + i + \".txt\",\"w\") as f:\n",
    "        for s in pred:\n",
    "            f.write(s)              "
   ]
  },
  {
   "cell_type": "code",
   "execution_count": 5,
   "metadata": {
    "ExecuteTime": {
     "end_time": "2020-01-04T10:30:13.773133Z",
     "start_time": "2020-01-04T10:30:13.212237Z"
    }
   },
   "outputs": [],
   "source": [
    "with open(\"./result/src_cnndm.txt\",\"w\") as f:\n",
    "    for s in src:\n",
    "        f.write(s)    "
   ]
  },
  {
   "cell_type": "code",
   "execution_count": 6,
   "metadata": {
    "ExecuteTime": {
     "end_time": "2020-01-04T10:30:14.731484Z",
     "start_time": "2020-01-04T10:30:14.723939Z"
    }
   },
   "outputs": [],
   "source": [
    "with open(\"./result/ref_cnndm.txt\",\"w\") as f:\n",
    "    for s in ref:\n",
    "        f.write(s)    "
   ]
  },
  {
   "cell_type": "markdown",
   "metadata": {},
   "source": [
    "# collect sentence-level results from different clusters"
   ]
  },
  {
   "cell_type": "code",
   "execution_count": 4,
   "metadata": {
    "ExecuteTime": {
     "end_time": "2020-01-11T13:40:25.299898Z",
     "start_time": "2020-01-11T13:40:25.294404Z"
    }
   },
   "outputs": [],
   "source": [
    "import _pickle as pickle"
   ]
  },
  {
   "cell_type": "code",
   "execution_count": 5,
   "metadata": {
    "ExecuteTime": {
     "end_time": "2020-01-11T13:40:25.862488Z",
     "start_time": "2020-01-11T13:40:25.838315Z"
    }
   },
   "outputs": [],
   "source": [
    "sentence_count = pickle.load(open(\"./fairseq/raw_datasets/test_index.bin\",\"rb\"))"
   ]
  },
  {
   "cell_type": "code",
   "execution_count": 6,
   "metadata": {
    "ExecuteTime": {
     "end_time": "2020-01-11T13:40:38.453501Z",
     "start_time": "2020-01-11T13:40:37.807784Z"
    }
   },
   "outputs": [],
   "source": [
    "for i in range(4):\n",
    "    src = [\"\" for _ in range(60000)]\n",
    "    ref = [\"\" for _ in range(60000)]\n",
    "    pred = [\"\" for _ in range(60000)]\n",
    "    \n",
    "    with open(\"./fairseq/cnndm_sen_\" + str(i) + \".log\",\"r\") as f:\n",
    "        for line in f:\n",
    "            if line[0]=='S':\n",
    "                num = int(line.split(\"\\t\")[0].split(\"-\")[1])\n",
    "                article = line.split(\"\\t\")[1:][0]\n",
    "                src[num] = article[:-1]\n",
    "            if line[0]=='T':\n",
    "                num = int(line.split(\"\\t\")[0].split(\"-\")[1])\n",
    "                gold = line.split(\"\\t\")[1:][0]\n",
    "                ref[num] = gold\n",
    "            if line[0]=='H':\n",
    "                num = int(line.split(\"\\t\")[0].split(\"-\")[1])\n",
    "                summary = line.split(\"\\t\")[2:][0]\n",
    "                pred[num] = summary[:-1]   \n",
    "    with open(\"./result/subjective_bias/pred_cnndm_sen_\" + str(i) + \".txt\",\"w\") as f:\n",
    "        index = 0\n",
    "        for count in sentence_count:\n",
    "            s = \" . \".join(pred[index:index+count])\n",
    "            index += count\n",
    "            f.write(s + \"\\n\")   "
   ]
  },
  {
   "cell_type": "code",
   "execution_count": null,
   "metadata": {},
   "outputs": [],
   "source": [
    "with open(\"./result/subjective_bias/pred_oracle.txt\",\"w\") as f:\n",
    "    index = 0\n",
    "    for count in sentence_count:\n",
    "        s = \" . \".join(src[index:index+count])\n",
    "        index += count\n",
    "        f.write(s + \"\\n\") "
   ]
  },
  {
   "cell_type": "code",
   "execution_count": 7,
   "metadata": {
    "ExecuteTime": {
     "end_time": "2020-01-11T13:40:41.241505Z",
     "start_time": "2020-01-11T13:40:40.926538Z"
    }
   },
   "outputs": [],
   "source": [
    "for i in [\"random\",\"ratio\"]:\n",
    "    src = [\"\" for _ in range(60000)]\n",
    "    ref = [\"\" for _ in range(60000)]\n",
    "    pred = [\"\" for _ in range(60000)]\n",
    "    \n",
    "    with open(\"./fairseq/cnndm_sen_\" + i + \".log\",\"r\") as f:\n",
    "        for line in f:\n",
    "            if line[0]=='S':\n",
    "                num = int(line.split(\"\\t\")[0].split(\"-\")[1])\n",
    "                article = line.split(\"\\t\")[1:][0]\n",
    "                src[num] = article\n",
    "            if line[0]=='T':\n",
    "                num = int(line.split(\"\\t\")[0].split(\"-\")[1])\n",
    "                gold = line.split(\"\\t\")[1:][0]\n",
    "                ref[num] = gold\n",
    "            if line[0]=='H':\n",
    "                num = int(line.split(\"\\t\")[0].split(\"-\")[1])\n",
    "                summary = line.split(\"\\t\")[2:][0]\n",
    "                pred[num] = summary[:-1]\n",
    "    with open(\"./result/subjective_bias/pred_cnndm_sen_\" + i + \".txt\",\"w\") as f:\n",
    "        index = 0\n",
    "        for count in sentence_count:\n",
    "            s = \" . \".join(pred[index:index+count])\n",
    "            index += count\n",
    "            f.write(s + \"\\n\")                "
   ]
  },
  {
   "cell_type": "code",
   "execution_count": 8,
   "metadata": {
    "ExecuteTime": {
     "end_time": "2020-01-11T13:40:45.968901Z",
     "start_time": "2020-01-11T13:40:45.782812Z"
    }
   },
   "outputs": [],
   "source": [
    "src = [\"\" for _ in range(60000)]\n",
    "ref = [\"\" for _ in range(60000)]\n",
    "pred = [\"\" for _ in range(60000)]\n",
    "\n",
    "with open(\"./fairseq/cnndm_sen.log\",\"r\") as f:\n",
    "    for line in f:\n",
    "        if line[0]=='S':\n",
    "            num = int(line.split(\"\\t\")[0].split(\"-\")[1])\n",
    "            article = line.split(\"\\t\")[1:][0]\n",
    "            src[num] = article\n",
    "        if line[0]=='T':\n",
    "            num = int(line.split(\"\\t\")[0].split(\"-\")[1])\n",
    "            gold = line.split(\"\\t\")[1:][0]\n",
    "            ref[num] = gold\n",
    "        if line[0]=='H':\n",
    "            num = int(line.split(\"\\t\")[0].split(\"-\")[1])\n",
    "            summary = line.split(\"\\t\")[2:][0]\n",
    "            pred[num] = summary[:-1]\n",
    "            \n",
    "with open(\"./result/subjective_bias/pred_cnndm_sen.txt\",\"w\") as f:\n",
    "    index = 0\n",
    "    for count in sentence_count:\n",
    "        s = \" . \".join(pred[index:index+count])\n",
    "        index += count\n",
    "        f.write(s + \"\\n\")                "
   ]
  },
  {
   "cell_type": "code",
   "execution_count": 9,
   "metadata": {
    "ExecuteTime": {
     "end_time": "2020-01-11T13:40:46.665674Z",
     "start_time": "2020-01-11T13:40:46.550609Z"
    }
   },
   "outputs": [],
   "source": [
    "src = [\"\" for _ in range(11490)]\n",
    "ref = [\"\" for _ in range(11490)]\n",
    "pred = [\"\" for _ in range(11490)]\n",
    "\n",
    "with open(\"./fairseq/cnndm.log\",\"r\") as f:\n",
    "    for line in f:\n",
    "        if line[0]=='S':\n",
    "            num = int(line.split(\"\\t\")[0].split(\"-\")[1])\n",
    "            article = line.split(\"\\t\")[1:][0]\n",
    "            src[num] = article\n",
    "        if line[0]=='T':\n",
    "            num = int(line.split(\"\\t\")[0].split(\"-\")[1])\n",
    "            gold = line.split(\"\\t\")[1:][0]\n",
    "            ref[num] = gold\n",
    "        if line[0]=='H':\n",
    "            num = int(line.split(\"\\t\")[0].split(\"-\")[1])\n",
    "            summary = line.split(\"\\t\")[2:][0]\n",
    "            pred[num] = summary\n",
    "            \n",
    "with open(\"./result/subjective_bias/pred_cnndm.txt\",\"w\") as f:\n",
    "    for s in pred:\n",
    "        f.write(s)                 "
   ]
  },
  {
   "cell_type": "markdown",
   "metadata": {},
   "source": [
    "# collect result of abs-rl-rerank"
   ]
  },
  {
   "cell_type": "code",
   "execution_count": 24,
   "metadata": {
    "ExecuteTime": {
     "end_time": "2019-12-23T11:39:08.522867Z",
     "start_time": "2019-12-23T11:39:08.354599Z"
    }
   },
   "outputs": [],
   "source": [
    "pred = []\n",
    "for i in range(11490):\n",
    "    model_name = \"../../ROUGE/ROUGE-1.5.5/RELEASE-1.5.5/abs-rl-rerank/models/model.\" + str(i) + \".txt\"\n",
    "    pred.append(open(model_name).read())\n",
    "with open(\"./result/pred_abs-rl-rerank.txt\",\"w\") as f:\n",
    "    for s in pred:\n",
    "        f.write(s)\n",
    "        if s[-1]!=\"\\n\":\n",
    "            f.write(\"\\n\")"
   ]
  },
  {
   "cell_type": "markdown",
   "metadata": {},
   "source": [
    "# collect result of pointer-generator"
   ]
  },
  {
   "cell_type": "code",
   "execution_count": 10,
   "metadata": {
    "ExecuteTime": {
     "end_time": "2019-12-28T03:39:31.058732Z",
     "start_time": "2019-12-28T03:39:31.053590Z"
    }
   },
   "outputs": [],
   "source": [
    "pred = []\n",
    "article = []\n",
    "article_sorted = []"
   ]
  },
  {
   "cell_type": "code",
   "execution_count": 11,
   "metadata": {
    "ExecuteTime": {
     "end_time": "2019-12-28T03:39:31.343756Z",
     "start_time": "2019-12-28T03:39:31.341821Z"
    }
   },
   "outputs": [],
   "source": [
    "pat = '[a-zA-Z]+'"
   ]
  },
  {
   "cell_type": "code",
   "execution_count": 12,
   "metadata": {
    "ExecuteTime": {
     "end_time": "2019-12-28T03:39:33.223285Z",
     "start_time": "2019-12-28T03:39:31.677491Z"
    }
   },
   "outputs": [],
   "source": [
    "with open(\"/home/lyn/liuwei/Subjective_Bias/data/cnndm/test.src\",\"r\") as f:\n",
    "    for line in f:\n",
    "        line = re.sub(u\" -lrb- | -rrb- |-lsb- (.*?) -rsb-\", \" \", line)\n",
    "        article_sorted.append(\"\".join(re.findall(pat,line)))"
   ]
  },
  {
   "cell_type": "code",
   "execution_count": 13,
   "metadata": {
    "ExecuteTime": {
     "end_time": "2019-12-28T03:39:37.510704Z",
     "start_time": "2019-12-28T03:39:35.677932Z"
    }
   },
   "outputs": [],
   "source": [
    "for i in range(11490):\n",
    "    index = i\n",
    "    pred_name = \"../../ROUGE/ROUGE-1.5.5/RELEASE-1.5.5/pointer_generator/models/model.\" + str(index) + \".txt\"\n",
    "    article_name = \"../../ROUGE/ROUGE-1.5.5/RELEASE-1.5.5/pointer_generator/articles/\" + str(index).zfill(6) + \"_article.txt\"\n",
    "    pred.append(open(pred_name).read())\n",
    "    article_sample = re.sub(u\"\\\\(.*?\\\\)|\\\\{.*?}|\\\\[.*?]\", \"\", open(article_name).read())\n",
    "    article.append(\"\".join(re.findall(pat,article_sample)))    "
   ]
  },
  {
   "cell_type": "code",
   "execution_count": 17,
   "metadata": {
    "ExecuteTime": {
     "end_time": "2019-12-28T03:46:40.635697Z",
     "start_time": "2019-12-28T03:46:40.620960Z"
    }
   },
   "outputs": [
    {
     "name": "stdout",
     "output_type": "stream",
     "text": [
      "990 tornadoesfiercewindsandseverethunderstormswithlargehailarepredictedforthemidwestandfortheplainsfromtheozarkseastwardtothelowerohiovalleyonthursdayandfridaythenationalweatherservicesaidsevereweatherisperilousanytimeofcoursebutcnnmeteorologistchadmyerssaysthattornadoconditionsaremoredangerousduringthenighttornadoescanbemoredeadlywhenpeoplearesleepingandnotpayingattentiontothewarningshesaidscatteredstormswillsoakillinoisandmissouriandwindandhailwillcontinuetobemoderateinthosestatesthenationalweatherservicesaidbythursdayafternoonstormswillhitpartsofindianaandkentuckyearlierthisweeksevereweatherstruckthesouthalabamaarkansasoklahomaandgeorgiareportedlargehailresidentsinshawneeoklahomawereawakenedearlywednesdaymorningbyaseverestormproducinggolfballsizedhailthehailcameoutofnowheresoitwaskindofshockingsherrimcdonaldsaidtocnninanireportthehaildingedhercar 989\n",
      "1363 afootballfanisfacingathreeyearbanafterrunningtoplessontoapitchandperformingaseriesofsomersaultsduringhisfirstevergameatthestadiumcharliesumnerstagedaonemanpitchinvasionatreadingsmadejskistadiumduringtheteamsfacupquarterfinalreplaywithbradfordcitylastmonththereadingsupporterwhoseteamwereupatthetimedidfourfrontflipsonthepitchlandingonhisbackeachtimebeforebeingtackledbystewardscharliesumnerstagedaonemanpitchinvasionatreadingsmadejskistadiumduringtheirquarterfinalreplaywithbradfordcitylastmonththereadingsupporterwhoseteamwereupatthetimedidfourfrontflipsonthepitchlandingonhisbackeachtimesumnerwhosaidgoingtohisfirstgamewasabrilliantexperienceisnowfacingapotentialthreeyearbanforcarryingoutthestunttheorderduetobedecidedonaprilwouldstophimgoingtoallreadingsfuturehomeandawaymatchessumnerfromwokinghamberkshiresaidhehasnoregretsabouttheincidentsayingthathehaddoneitforlaughandthathisfamilyhadseenthefunnysidespeakingoutsidecourthesaidafterdoingitandseeinggoodcommentsandmessagesevenfromtheawayfansidontlookbackandregretitobviouslyiwouldntinformotherpeopletodoititwasjustspurofthemomentitsgoodtoseegoodfeedbackandnotnegativefeedbackidhadafewdrinksiwashappyandreadingwerewinningandijustwentforitandhadalaughitwasbrilliantaskedwhetherhegoestomanyreadingmatchesheaddedthatwasmyfirstgameactuallyitwasagoodexperienceobviouslybeingthereonthefirstgamenotafterwhativedonebutstandinginthestadiumwatchingthegamefromthestadiumitsabrilliantexperienceobviouslywiththebaniwouldntbeabletoexperiencethatexperienceagaincharliesumnerpicturedoutsidereadingmagistratescourtheisfacingapotentialbanningorderafterrunningontothepitchsumnerwastackledbystewardsthefootageofsumnersanticswentviraltheincidenttookplaceonmarchwhenthematchwasbeingbroadcastlivetomillionsofviewersonbbconeafterwardsfootageofsumnersanticsalsowentviralontheinternetsumnerwhowenttothematchwithagroupofeightfriendssaidhetalkedwithhisfriendsinataxionthewaytothematchaboutpotentiallyrunningontothepitchididsaynoatfirstthenreadingwerewinningandigotabitexcitedhesaidiwenttoraveonfridayandtheresanothervideoonfacebookandimdoingflipsthereivehadafewselfiesafewdrinksboughtformesumnersaidhespoketofriendsonthewaytothestadiumaboutcarryingoutthestunthesaidhehadnoregretsandthathisfamilyhadseenthefunnysidebutsumnerwhoworksasadrylinerfixingceilingssaidhethoughtapotentialfootballbanningorderseemedabitmuchidontwantathreeyearbanbecauseobviouslyitsquiteabithesaidimnotencouragingpeopledoitandifigotoanothergameimnotgoingtodoitagainattodayshearingsumnerssolicitorenteredaguiltypleaonhisclientsbehalftoonecountofgoingontoaplayingareaatafootballmatchunderthefootballoffencesactsumnerwhowasatcourtbutmissedhishearingafterleavingthebuildingbrieflywasreleasedonbailwithconditionsthathedoesnotattendreadingshomeorawaymatcheshewillappearatreadingmagistratescourtonaprilwhenadecisionwillbemadeonwhetherhereceivesafootballbanningorder 1109\n",
      "2090 robertlewandowskireturnedtohaunthisformerclubasbayernmunichearnedanarrowvictoryagainstborussiadortmundatthesignalidunaparkonsaturdaypolandinternationallewandowskiscoredthewinneronhisfirstvisitbacktotheclubheleftonafreetransferlastsummeraspepguardiolassiderestoredtheirpointleadatthetopofthebundesligalewandowskispentfouryearsatdortmundleadingthemtobacktobackleaguetitlesduringthatperiodandofferedonlyamutedcelebrationwhenhepouncedtogivethevisitorstheleadminutesbeforehalftimerobertlewandowskibeatsmarcelschmelzertotheballtoheadbayernmunichinfrontagainstdortmundthebayernplayerscelebrateinfrontofthetravellingsupportersafterclaiminganarrowvictoryromanweidenfellersavedthomasmullersoriginaleffortbutheballfellkindlytothepolandstrikerweidenfellercomplainstohisdefenceaslewandowskimakeshiswaytohisfeetafterscoringdortmundweidenfellersokratissubotichummelsschmelzerbendergundoganblaszczykowskireuskamplaubameyangsubsnotusedkehllangerakginterdudziakbookedaubameyangschmelzerbayernmunichneuerbenatiaboatengdanterafinhalahmalonsoschweinsteigerbernatmullerlewandowskisubsnotusedpizarrogaudinoreinaweiserbookedschweinsteigeralonsorodescorerlewandowskibayernsufferedashockhomedefeatbyborussiamonchengladbachbeforetheinternationalbreakbutrespondedtogettheirtitlechargebackontrackagainsttheirformerchampionshiprivalsdortmundwereunbeatenintheirlasteightdomesticmatchessittingcomfortablyinmidtableafterrescuingadesperatelookingsituationearlierthisyearthatsawjurgenkloppssidebottomofthetablebuttheywerebehindafterminutesagainstbayernthomasmullerwasreleaseddowntheleftchannelbuthislowdriveafterburstingtowardstheboxwasparriedbyromanweidenfellerunfortunatelyforthedortmundgoalkeepertheballreboundedinvitinglyforlewandowskitobeatmarcelschmelzertotheballandheadhomefromyardsdortmundofferedaspiritedfightbackasthehostsappliedmuchofthesecondhalfpressurebutthebayerndefenceheldfirmalthoughtheyhadmanuelneuertothankaftersavingbrilliantlyfromamarcoreusfreekickintheclosingstagesashisteammatesroaredwildlyaroundhimlewandowskididnotcelebrateagainsthisformerclubthegoaldidhoweversendthebayernbenchintorapturesalthoughpepguardiolaremainedcalmgoalscorerlewandowskiholdsoffthechallengeofdortmundskevinkampltheteamslineuptoobserveaminutesilenceforthepassengersofthegermanwingsflightthatcrashed 1704\n",
      "3157 bryonyhibbertthegirlfriendofthefootballercaughthavingdrunkensexinthedugouthasslammedthoseresponsiblefortheclipthisisthefirstpictureofthegirlfriendofthesemiprofessionalfootballercaughthavingdrunkensexwithafemalesupporterinthedugoutafterhisteamsdefeatstrikerjayhartcouldbeheardlaughingonthemobilephonefootageashewascaughtrompingwiththemysteryblondeinhisclubtshirtwithhistracksuitbottomsaroundhislegshewasdismissedafterthesexclipofhistrystatmossleyafcintamesidewassharedonsocialmediaandhasnowbeggedforhisyearoldgirlfriendbryonyhibbertsforgivenesstherdminutesubstitutefornonleagueclitheroefcinlancashiretodayadmittedhehadnoideawhothewomanwasandreachedouttowaynerooneyontwitterforadvicespeakingforthefirsttimesincehewascaughtintheacthesaidalliwantsayisthatiregretdoingwhatididiwasdrunkidhadmorethanafewdrinksandiwanttosayimsorrytomyfamilyandeveryoneinvolvedatclitheroeiregretthatididitnotthatigotcaughtivespokenandtriedtosortthingsoutwithbryonyeveryoneintheworldknowsaboutitijustwanttogetmyapologyoutthereihaventseenthegirlsinceidonthaveacluewhosheisdonthaveacluehisteamhadjustsufferedadefeatatmossleysseelparkstadiuminthefinalgameoftheseasonwhichwasbilledasaladiesdaytoattractmorefemalesupportersthefaceoftheblondefancannotbeseeninthecloseupfootagehartwassackedbytheclubwhichplayinevostikdivisionnorthwithinhoursofthefootagebeingsharedtofanshisgirlfriendbryonyhibbertfromoswaldtwistlelancashirewhohastwoyoungchildrenslammedthoseresponsibleforfilmingandsharingtheclipwritingontheclitheroefootballclubfacebookpageshesaidhaveabitofdecencyforthepeopleitsaffectedthankgodmykidsaretooyoungtoreaditsdisgustingibettheirfamiliesarefarfromperfectstrikerjayhartcouldbeheardlaughingonthemobilephonefootageashewascaughtrompingwiththemysteryblondestillinhisclubtshirtwithhistracksuitbottomsaroundhislegsonepersonwhosawthefilmwhichwassharedontwitterandinstagramsaidmrhartwasunawarehewasbeingfilmedatfirsthesaidthecameracameroundthedugoutandtherewasablondefemalewithherheaddownthemancouldntseethecamerabecausehiseyeswereclosedafterafewsecondsheopenedhiseyesandlaughedandthecamerapannedawayagainivebeentomossleyafcafewtimesanditsclearlytheirgroundthewholeclipisonlytosecondsmrhartsaidhethinksofmshibbertschildrenashisownandhasntseenthemsincetheincidenthismotherdawnhartalsorevealedjaysyoungersistershavebeentargetedbytrollswithsomeonesendingthevideototheyoungestagednineiknowhesdonewrongbutattheendofthedayhesmysonandtoseewhatpeoplearesayingabouthimitsnotniceshesaidmrhartcouldbeheardlaughingonthemobilephonefootageashewascaughtrompingwiththemysteryblondepeoplehavedonealotworsesomeonesentthevideotomygirlsaswelltheyknowsomethingsgoneonbuttheydontknowwhatexactlyandtohavetoexplainittothemwhensomeonesendsthemsomethinglikethatishorribleitshadaknockoneffectonhisgirlsaswellclitheroechairwomanannebarkersaidtheplayerhadbroughttheclubintodisreputeshesaidicanthavesomebodywearingtheclitheroefctracksuitbringingusdownithasbroughttheclubintodisreputeanditsnotproperforhimtoscupperourreputationiexpectourplayerstoactprofessionallyitwasbroughttomyattentiononsaturdaynightanddealtwiththroughthemanagementididoffertospeaktohimmyselfbutsimonsaidhewouldtakecareofitmrhartpreviouslyplayedforcolnefcandpadihamfcbeforejoiningclitheroewhocurrentlysitthintheevostikleaguefirstdivisionnorthfirstteammanagersimongarnerwhosignedmrhartsaidatthetimeofthisunfortunateoccurrenceonsaturdayiwasntthereihadalreadyleftthegroundifoundoutlateronwhenisawhowitplayedoutintwitterimdisappointedbutwecantcontrolwhattheplayersdooutsidethetimewearewiththemtheychoosewhattheywanttodounfortunatelyjasonwaswearingtheclubtracksuitandheknowshehaslettheclubdownsotheclubhasdonewhatithasdonehesdisappointedithasgonethisfaritsgoingtohaveconsequencesforhimbeyondleavingthisfootballclubwithhisfamilyandpossiblybeyondthatfootballisonlyasmallpartofitifhehadthoughtaboutwhatwouldhavehappenedwhenhedidithewouldnthavedoneithewillpayforitwhenispoketohimhesoundedveryapologeticaboutitimdisappointedforhimhewillregretwhathedidanditwastotallywrongnoonefrommossleyafcwasavailableforcommentyesterdayifyouknowtheidentityoftheblondeemailjennyawforddailymailcoukorcallhewasdismissedafterthesexclipofhistrystatmossleyafcintamesidewassharedonsocialmediaandhasnowbeggedforhisyearoldgirlfriendbryonyhibbertsforgivenesshisteamhadjustsufferedadefeatatmossleysseelparkstadiuminthefinalgameoftheseasonwhichwasbilledasaladiesdayclitheroechairwomanannebarkersaidtheplayerhadbroughttheclubintodisreputepicturedistheclubsofficialstatement 2954\n",
      "3652 floydmayweathervmannypacquiaowillbethebiggestfightofalltimefinanciallyandthemostsignificantthiscenturyevaluatingthegreatesteverfightsisacomplexvariableofseveralfactorsincludingnotonlythequalityandexcitementoftheactionbutthepoliticalsocialandculturalundertonesthescaleofexpectationandoutsideinfluenceswheremoneymanvpacmancomestorankamongthemostimportantfightsinringhistorywilldependuponwhathappensthatcomingnightinthemgmgrandgardenarenainthisthefifthinaseriesoffightsthatshapedboxinghistoryilookbackononeofthegreatestsportingeventsofalltimetheneardeathfightmuhammadalivjoefrazierthethrillainmanilaquezoncityphilippinesoctoberjustastheyaresayingaboutmayweathervpacquiaotheperceivedwisdomwasthatalifrazierwascomingfiveyearstoolatefortwogreatboxersintheirsletushopetheyaresospectacularlywrongagainthatstarspanglednightinnewyorkwhensmokinjoeknockeddownanddefeatedthegreatesthadbeenfollowedinbyatamerscrappierpointsvictoryforaliaposterformuhammadalivjoefrazieralsoknownasthethrillainmanilainquezoncityphilippinesaliswingsforfrazierwhoeventuallylostinthethroundtoatechnicalknockoutandsotothetrilogyayearlaterbothmenhadcomethroughbattleswithgeorgeforemanfrazierlosingandalifamouslywinningtherumbleinthejungleinzairegeorgeforemanvmuhammadalioctoberkinshasazairejoefraziervmuhammadalimarchmadisonsquaregardennewyorkjackjohnsonvjamesjeffriesjulyrenonevadajoelouisvmaxschmelingjuneyankeestadiumnewyorkthistimedonkinghadmanilainmindasthenextheavyweightstopforhisglobetrottingcircusphilippinespresidentferdinandmarcoslikezairespresidentmobutobeforehimsawsponsorshipofthefightasadistractionfromthepovertyandsocialunrestinhiscountryitwasaliwhobecamemostdistractedduringthebuildupwheninvitedtoaphotoopportunitywithmarcosandhisinfamouslybigspendingwifeimeldahetookhismistressveronicaporschealongandintroducedherashiswifemrsbelindaaliwatchedthathappenonustelevisionandimmediatelyflewtomanilatoconfrontherhusbandloudlyinhishotelsuitealireturnedtohiscustomarypsychologicalbaitingofhisopponentshehadinsultedfrazierbeforetheirfirstfightanddidsoagainchantingitwillbekillaandathrillaandachillawhenigetthegorillainmanilathusthetitleforthefightthethrillainmanilawascoinedalipicturedalongsidehisinfamouslybigspendingwifemrsbelindaaliinseptemberfrazierthequietmanwasplottingastrategyofbreakingdownaliwithshotstothestomachribskidneysandliverquotingtheoldringmaximifyoukillthebodytheheadwilldiealiwouldtargetthefrazierheadandwontheearlyroundswhilehislegswereattheirfreshestbutitwasimpossibleforhimtokeepdancinginthepressurecookerheatwiththeringtemperaturereachingdegreesfahrenheitasmuhammadstartedslowingjoebegansmokintheywouldengageinoneofthemostbrutalspectaclesintheannalsofthehardestgamealiwasforcedtolowerhisguardastheylandedmorethanblowstotheheadbetweenthemeachofsuchforcethatanyoneofthemwouldhavestoppedlesserfightersalisupplementedthosepowershotswithhisquickjabsandcombinationsandtherebyinflictedmoreofthefacialswellingboxinggreatsfrazierandalipicturedintheringonoctoberforthethrillainmanilaaliandfrazierengagedinoneofthemostbrutalspectaclesintheannalsofthehardestgamefrazierseyesbeganclosingintheninthbythetimehecameoutforthethhecouldbarelyseeandalisenthisgumshieldflyingwiththesecondoftwomassiverighthooksexhaustedthoughhewasaliwentforthekillainthethalthoughthemonstrousbarragewhichsentfrazierreelingandstaggeringcouldnotputhimdownitwasenoughtobringasensationalendtoanepicbattlealiorderedhiscornermanherbertmuhammadtocutoffhisglovessayinghecouldnotgoonbutbeforehecoulddosofrazierstrainereddiefutchcalledahaltarelievedalifamouslysaidthisistheclosesttodeathihaveeverbeenfrazierbeggedtobeallowedtoseeoutthethandfinalroundbutfutchtoldhimitsovernoonewilleverforgetwhatyoudidheretodayfrazierneverforgavehimnotfullynoraliforthetrilogyofinsultsalidefiedtherigoursofparkinsonstoattendfraziersfuneralaliliftshisarmsintheairafterdefeatingfrazierinthethroundbutlaterattendedhisgreatopponentsfuneralwhenhediedattheageof 3611\n",
      "3653 floydmayweathervmannypacquiaowillbethebiggestfightofalltimefinanciallyandthemostsignificantthiscenturyevaluatingthegreatesteverfightsisacomplexvariableofseveralfactorsincludingnotonlythequalityandexcitementoftheactionbutthepoliticalsocialandculturalundertonesthescaleofexpectationandoutsideinfluenceswheremoneymanvpacmancomestorankamongthemostimportantfightsinringhistorywilldependuponwhathappensthatcomingnightinthemgmgrandgardenarenainthisthefourthinaseriesoffightsthatshapedboxinghistoryilookbackononeofthegreatestsportingeventsofalltimerumbleinthejunglegeorgeforemanvmuhammadalikinshasazaireoctoberthefightvotedthegreatestsportingeventofthethcenturythefightwhichcrossedoceansandcontinentsthefightwhichdroveboxingthroughsocialbarriersthefightwhichputashadowycentralafricanrepublicontheworldmapthefightwhichestablishedmuhammadaliasthemostrecognisablehumanbeingonearththefightwhichmadegeorgeforemanfamousindefeatthefightaboutwhichmillionsofwordshavebeenwrittenandmoviesmadeaphotographtakenonoctobershowsmuhammadaliandgeorgeforemanusasforemanapproacheshiscompatriotaliduringtheiconicrumbleinthejungleintherumbleinthejunglewasthebrainchildofpromotionalgeniusdonkingbackedbythemultimilliondollarinvestmentthroughwhichzairepresidentmobutosesesekohopedtoexcitehispeopleintokeepinghiminpowerkinghadpersuadedaliandforemantosignmillioncontractswhichhecouldnotaffordbutwouldtalkpresidentmobutointobankrollingjoefraziervmuhammadalimarchmadisonsquaregardennewyorkjackjohnsonvjamesjeffriesjulyrenonevadajoelouisvmaxschmelingjuneyankeestadiumnewyorkastheyearoldworldheavyweightchampionwithenormouspunchingpowerforemanwasoddsonfavouritetocrushthebrillianceofthemantheycalledthegreatestbutwhoatanddiminishedbyhisthreeandahalfyearbanishmentfromtheringforrefusingtogotowarinvietnamwasperceivedasafadingforcealiwenttoworkonforemanspsychefromthemomentthecircusarrivedinkinshasaturningupathistrainingsessiontomockbiggeorgeforhissizeandmakefunofhisintellecttheirritatingeffectonforemanwasprolongedafterhesufferedaneyecutinsparringthedateofthefightwasputbackmorethanamonthandkingfearfulofcancellationinsistedtheystayedinzaireinsteadoftakingabreakbackinamericaalialsocharmedthelocalpopulationwhohappilytooktothestreetsthroughoutthoseweekschantingalibomayealikillhimthefightdevelopedintoatacticaltriumphforalialbeitaselfpunishingonewhichmayhavecontributedtothesubsequentonsetofparkinsonswhichafflictshimnowalioftenfoundhimselfagainsttheropesinastrategywhichevensurprisedhistrainerangelodundeealispentmuchofhistimeagainsttheropesinvitingforemantopunchhimselfoutbeforelandinghisblowinastrategywhichhelaterentitledropeadopeandwhichcameasasurprisetoeveryoneincludinghisfabledtrainerangelodundeealispentmuchofhistimelollingagainsttheropesinvitingforemantopunchhimselfoutbiggeorgedulyobligedbythrowinghundredsofblowsinthefirstsevenroundsalievadedmanyofthosepunchesandblockednumerouswithhisarmsbuthehadtowithstandthebruteforceofthosewhichgotthroughhisdefencestheverbaltauntingwentontheytoldmeyoucouldpunchgeorgehesaidasforemanbegantoflagisthatallyougotgeorgeheraspedasforemanconnectedtothealichinwithvirtuallythelastofthepuncheswhichhadknockedoutmanyaformerfoeithadnotbeenallnegativethroughoutalihadpepperedtheswellingforemanfacewithbreakoutwithlightningcombinationsandthesteamyamheathadcontributedtotheweakeningprocessforemantheworldheavyweightchampionisdownoncounttwoafterbeingstruckbyalisrighthanderalilooksonafterheknockedforemantothecanvaswiththeholymotherofallrighthandersduringtheboutcometheeighthroundcomethecoupdegraceasuccessionofrighthooksatwofistedburstandthenalefthookwhichstraightenedupbiggeorgetoreceivetheholymotherofallrighthandersforemanstaggeredtohisfeetatthecountofninebutrefereezackclaytonknewhewasfinishedsensationbedlaminthejungleastonishmentaroundthesatelliteworldforemanwouldeventuallyemergefromdenialtobecomealisgreatfriendaninspiringchristianpreacherandthesellerofcountlesstopoftherangebarbecuesaliwasstillthegreatestalisstaffandtherefereeputtheirarmsaroundaliafterhesettledtherumbleinthejunglein 3652\n",
      "3655 floydmayweathervsmannypacquiaowillbethebiggestfightofalltimefinanciallyandthemostsignificantthiscenturyevaluatingthegreatesteverfightsisacomplexvariableofseveralfactorsincludingnotonlythequalityandexcitementoftheactionbutthepoliticalsocialandculturalundertonesthescaleofexpectationandoutsideinfluenceswheremoneymanvspacmancomestorankamongthemostimportantfightsinringhistorywilldependuponwhathappensthatcomingnightinthemgmgrandgardenarenahereisthesecondofmymostsignificantfightsinboxingshistorythefightagainstthenazisyankeestadiumnewyorkjunejoelouisvsmaxschmelingjoelouisknocksoutmaxschmelinginthefirstroundtowintheheavyweighttitleonjunealthoughherrhitlerwastrumpetingmaxschmelingasaheroofthethirdreichfollowinghisknockoutvictoryoverjoelouistwoyearsearlierthegermanwasantinaziandremainedsoduringworldwariiwhichwasimminentatthetimeoftherematchlouishadcomebackfromthatshocktowintheworldheavyweighttitlebydefeatingjamesjbraddockbutannouncedhewouldnotconsiderhimselfthetruechampionuntilheavengedthelosstoschmelingthefightwasbilledasapoliticalwarbetweenanamericastrugglingtoemergefromthegreatdepressionandagermanyprovokingarmedconflictineuropebyannexingaustriayetsuchwasschmelingsdistasteforbeingexploitedbyadolfhitlerspropagandamachineandhisloyalrefusaltosackhisjewishmanagerthathiswifeandmotherwererefusedpermissiontotraveltonewyorktosupporthimincasehedefectedtotheusthesocialpicturewascloudedfurtherbyblackamericasbeliefinlouisasahighprofilecampaignerforcivilrightslouisiscarriedbyhissupportersaheadofhisrematchwithschmelingaposterfortherematchwhilelouisandschmelingshakehandsattheweighinaheadoftheirfightjackjohnsonvsjamesjeffrieslouiswhohadcomplacentlytrainedonthelinksratherinthegymforthefirstfightgaveupgolfandwomeninseriouspreparationforthereturnboutpresidentfranklindrooseveltinvitedlouistothewhitehouseandtoldhimjoeweneedmuscleslikeyourstobeatthegermanslouiswouldsaythewholedamnedcountrywasdependingonmeclarkgablegarycooperandgregorypeckwereamonghollywoodcelebritiesinthecrowdalongwithfbibossjedgarhooverlouisispicturedjumpingasideasschmelingfallsaftertheknockoutlouishadbeentacticallyoutthoughtintheirfirstfightsodecidedtogoforbrokefromthefirstbellabarrageoflefthooksfollowedbyarighttothebodyhadschmelingdoubledupinpainandrefereearthurdonovangavehimastandingeightcountlouisswitchedhisattacktotheheaddroppingschmelingtwiceanddonovancalledahaltonlytwominutesandsecondsintothefightlouisthebrownbomberhadfracturedschmelingsspinewithhisbodyattacksasthemanfrombrandenburgwastakentohospitaltheambulancepassedthroughharlemandherecalledlatericouldthenoiseofcrowdsdancingbandshadleftthebarsandwereplayingonthesidewalkseverywherewasfilledwithcelebrationsandsaxophoneslouisgoesontheattackagainstschmelingashegainsrevengeafterdefeattwoyearsearlierschmelingwouldbeforciblyconscriptedasagermanparatrooperwarbutservedonlybrieflyandhisresistancetohitlermadehimaheroinhiscountryforasecondtimeafterthewarheinvestedinsuccessfulbusinessesandliveduntilshortlybeforehisthbirthdayinlouislosthismoneyandbecameagreeteratcaesarspalaceinlasvegashisoldfriendschmelingvisitedhimthereonceeveryyearuntilhisdeathinwhenheactedasapallbeareratlouisfuneral 3654\n",
      "3656 floydmayweathervsmannypacquiaowillbethebiggestfightofalltimefinanciallyandthemostsignificantthiscenturyevaluatingthegreatesteverfightsisacomplexvariableofseveralfactorsincludingnotonlythequalityandexcitementoftheactionbutthepoliticalsocialandculturalundertonesthescaleofexpectationandoutsideinfluenceswheremoneymanvspacmancomestorankamongthemostimportantfightsinringhistorywilldependuponwhathappensthatcomingnightinthemgmgrandgardenarenaherearemymostsignificantfightsinboxingshistorythefightforracejackjohnsonvjamesjjeffriesjulyinrenonevadajimjeffriescameoutofasixyearretirementtotakeonjackjohnsonthefirstblackheavyweightchampionjackjohnsonasthefirstblackworldheavyweightchampionwasthebaneofthewhitesupremacistsinamericaintheearlystheyhateditwhenthegalvestongiantbeattommyburnsinsydneyaustraliaintowinthetitletheyhadbrandishedasthesymboloftheirracialsuperioritythusbeganthequestforthegreatwhitehopewhenjohnsonkodtheirbesthopeofallstanleyketchelthecrusadetobringtheiroldidoljeffriesoutofsixyearretirementreachedafrenzyjeffriesfinallyagreedtorespondtothatportionofthewhiteracethathasbeenlookingformetodefenditsathleticsuperiorityinreturnforapurseofsoracistwasthepresscoverageofthebuilduptothefightthateventhenewyorktimeswroteiftheblackmanwinsthousandsandthousandsofhisignorantbrotherswillmisinterprethisvictoryasjustifyingclaimstomuchmorethanmerephysicalequalitywiththeirwhiteneighboursastheracialtensionsgrewthesheriffofrenotookthethenunusualstepofbanninggunsandalcoholinthecapacityarenaerecteddowntownjeffriesbythenacontentedfarmerhadshedmorethanlbstogetclosetohisoldfightingweightwhiteamericahateditwhengalvestongiantjohnsonbeattommyburnsinsydneyaustraliaintowinthetitleandafterafrenziedcampaignjeffriesagreedtotakethefightforwhatwouldequalmtheboutwasscheduledforroundsbutjohnsonsaidheknewitwasasgoodasoverinthefourthwhenhesawthealarmedreactiontohistrademarkuppercutandtheoldshipsinkingjeffrieshithertoundefeatedhadneverbeenoffhisfeetbutaftertwoknockdownshiscornerthrewinthetowelattheendofthethhedismayedwhiteamericabysayingicouldneverhavewhippedjohnsonatmybestnotinathousandyearssymbolicallythefourthofjulyshookthefoundationsofamericasoldwhiteorderriotsbrokeoutthatnightincitiesacrosstheunitedstatesandcitiesincludingnewyorkandwashingtonaspolicejoinedenragedwhitecitizensinsubduingblackamericancelebrationspeoplewerekilledandhundredsinjuredjohnsoncontinuedtoangertheracistsonseveralcountsasheavyweightchampionhereignedanotherfiveyearsbeforesurrenderingthecrowntowhitechallengerjesswillardafterwardsclaiminghehadthrownthefightafterbeatingjeffriesconvincinglyjohnsonwouldbeworldchampionforanotherfiveyearsjohnsonthensurrenderedthecrowntowhitegiantjesswillardandlaterclaimedtohavethrownthefightoutsidetheringhelivedthehighlifeofacelebrityandangeredtheoldorderagainbycontinuingtomarrywhitewivesthreeoftheminalltheamericanestablishmentventeditsgrudgebyaccusinghimoftakingwomenacrossstatelinesforimmoralpurposesandpursuinghimintoexileineuropeandcubahefinallygavehimselfupatthemexicanborderandservedanominaloneyearprisonsentencebeforehisdeathinattheageofhecollaboratedonmoviesabouthislifeandabroadwayplayentitledthegreatwhitehopejackjohnsonisstillregardedbymanyboxinghistoriansasthegreatestheavyweightofalltime 3655\n",
      "4008 propertyportfoliosolcampbellandhiswifefionathepollsmighthavethepartiesneckandneckbutitlookslikesolcampbellistakingnochancesforthesecondtimethisyeartheformerenglandfootballerissellingamultimillionpoundpropertyleadingtospeculationhewantstododgelaboursmansiontaxifthepartywinstheelectionanoutspokencriticofthepolicycampbellhaseventhreatenedtoleavethecountryifthetaxonpropertiesovermillioncomesintoforceearlierthisyearitwasrevealedhehadtakentheapparentlybizarredecisiontosellamillionlondontownhousetoacompanyownedbyhimselflandregistrydocumentssuggestthesalewasregisteredthedayafterhigherstampdutyleviescameintoeffectbutitispossiblethesaletookplaceshortlybeforemeaningtheincreasedchargeswouldhavebeenavoidednowcampbellhaslistedasecondpropertyforsaleinthesameexclusiveneighbourhoodofchelseaaformerhomeofjamesbondauthorianflemingtheluxurypenthousebythethamesisonthemarketformillioncampbellboughtitinformillionafterhereportedlystagedasitinatanestateagentsinthehopeofsecuringitforhisfamilyhiswifefionabarrattcampbellandtheirchildrenisabellaandethanithassincebeenextensivelyrenovatedbyhiswifeaninteriordesignerandgranddaughterofbarratthomesfoundersirlawriebarrattanadvertforthepropertystatestherearefewpropertieswithinchelseathatcanofferthecombinationofviewsspaciousaccommodationandexquisitefinishyetcampbellseemstobekeentoridhimselfoftheflatbeforetheelectioneyefordetailthelivingroominsidecampbellsmillionchelseaflatboastslavishfurnishingsnicetouchtheformerarsenalandtottenhamhotspurdefenderskitchenisfilledwithmarblesumptuousgildedmirrorslinethehallincampbellsluxuriousflatwhichisinanexclusiveneighbourhoodlastyeartheformerarsenalandtottenhamdefenderblastedtheproposedmansiontaxdescribingitasacheapandeasywaytoextractmoneyfromindividualswhohavedonewellhetoldthetimeswithamansiontaxyouretaxingmeforbeingprudentiflabourgetsinidleaveidhavetosaysorryiwanttoshipoutcampbellhasalsosaidimnotearningwhatiwasearningfiveyearsagoexpertshavesaidthatpropertiesworthbetweenmillionandmillioncouldincuranannualchargeofuptounderalabourgovernmenthenrypryorabuyingagentandpropertycommentatorsaidsellerslikesolcampbellfaceafinancialdilemmatotakeacertainhitnoworawaitthepotentialtaxbillthatalabourorlibdemgovernmentmaygeneratesincecampbellhasalsoownedgradeiilistedhallingtonhallanthcenturymansioninnorthumberlandfortunecampbellaccumulatedanumberofpropertiesbeforeandafterhisfootballcareerbuthassincesaididontearnwhatiusedtocampbellrecentlyfeaturedinahardhittingcampaigntoencourageethnicminoritybritonstovote 3149\n",
      "6367 annfldefensivebackwithahistoryoflegalproblemsisbeinginvestigatedafterreportsofanearlymorningincidentinvolvingaphysicalfightandatleastoneshotbeingfiredatatexasclubdenverbroncoscornerbackaqibtalibandhisbrotherarebeinginvestigatedforaggravatedassaultafteranaltercationatadallasareanightclubonwednesdaymorningaccordingtoreportsduringaincidentinvolvingtwogunswhenheplayingforthetampabaybuccaneerstalibandhismotherwereaccusedofshootingagunathissistersliveinboyfriendingarlandtexasdenverbroncoscornerbackaqibtalibandhisbrotheryaqubarebeinginvestigatedforaggravatedassaulttalibwasintroublebeforeandwaswantedonchargesofaggravatedassaultwithadeadlyweaponinduringthelatestincidentashotwasfiredoutsideofclubluxxindallastexasafteraphysicalfightinsideduringtheincidentonwednesdaytalibandhisbrotheryaqubhadaphysicalaltercationwithsomeoneinsideclubluxxandthenashotwasfiredoutsidearoundamwfaareportedwhendallasofficersrespondedtotheactiveshootercallthemanwhocalledpolicesaidthreeblackmenhadbeeninvolvedinadisturbanceandoneofthemhadtriedtopunchhimthemanalsosaidoneofthemenpulledoutagunandaimeditathimbeforefiringaroundoffintotheskyoutsidethebarandcausinganimmediatepanicthetalibslefttheareainarangeroverandajaguarandwenttothextccabaretpolicefoundthebrothersatthesecondclubandimpoundedthevehiclestolookforevidencethebrotherswerebothquestionedandaninvestigationintotheincidentisongoingthegeneralmanagerofclubluxxconfirmedthetalibswereattheclubbutdeniedthatanythingwithaguntranspiredthedallasmorningnewsreportedhanneykamalsaidonehundredpercentthatdidnothappeniwastheresomebodymighthavecalledthepolicebecausetherewasayellingargumenttalibsignedasixyearmillioncontractlastyearitsathletessomeoneseesthemyellinganddialseveryonewasaskedtoleavetheclubwhichtheydidoftheirownfreewillandthatwasitbroncosvicepresidentofpublicrelationspatricksmythsaidwehavebeenintouchwithaqibregardingthesereportsandwillcontinuetomonitorthissituationdallaspolicefalselyreportedtalibhadbeenarrestedforthrowingbottleslastjuneduringannflcampafterpartythedenverpostreportedthepoliceapologizedafteritendedupbeingyaqubwhowasarrestedduringtheincidentingarlandfelonywarrantswereissuedfortalibandhismotherokolotalibonchargesofaggravatedassaultwithadeadlyweaponpolicesuspectedthembothoffiringshotsfromarugerhandgunatshannonbillingstheboyfriendoftalibssisterandalsobelievedthenflbackattemptedtopistolwhipbillingswithaspringfieldmmsemiautomatichandgunduringtheincidentthebostonglobereportedtheyhadapparentlylearnedbillingswasbeingphysicallyabusivetowardstheirfamilymembertalibwhoownedbothweaponsreportedlyyelledduringthepistolwhippingyouregoingtomakemethrowawaymycareerthechargesweredroppedbecauseprosecutorsbelievedbillingsaregisteredsexoffenderwiththestateoftexaswouldnotmakeacrediblewitnessgarlandpolicespokesmanjoeharnsaiditwasveryfortunatenoonewaskilledandnoonewashurtseriouslytherewasntagreatdealofdistancefromonepersontotheotherthatwasshootingaftertheincidentafelonywarrantwasissuedforokolotalibforanassaultwithadeadlyweaponchargeinadditiontoplayingforthebroncostalibhasalsoplayedforthenewenglandpatriotsandtampabaybucsinadditiontothegunincidentstalibwasinvestigatedafteranallegedassaultonafloridacabdriverhethenresistedarrestonchargesofsimplebatterytheshutdowncorneralsofoughtwithteammatesandwassuspendedforviolatingthenflspolicyonperformanceenhancingsubstancestalibsignedasixyearmillioncontractwithdenverinmarchhealsohasplayedforthenewenglandpatriotsduringhissevenyearcareerduringhistimewiththereigningsuperbowlchampstalibsaidimacompetitoronthefieldmanthatskindofwhatweretalkingaboutrightnowjustfootballifchargesarebroughtwithregardtotheincidentindallastalibcouldfacedisciplineunderthenflspersonalconductpolicyandasuspensionseemspossiblegivenhishistorytalibwasinvestigatedafteranallegedassaultonafloridacabdriverandresistedarrestonabatterycharge 3798\n",
      "6752 richiebenaudspentalifetimeinthesunandinhisfinalyearsheruefullyadmittedthathewaspayingthepriceforitwithskincancersonhisforeheadandthetopofhisheadtheyearoldwhodiedonfridaytalkedabouthiscancerandthetreatmenthewasundergoingwithtypicalcandourwheniwasakidwenevereverworeacapbenaudtoldtheninenetworkaboutgrowingupinaustraliainthesandsiwishihadyouliveandlearnasyougoalongthecricketcommentaryboxlegendtalkedabouttheradiationtreatmenthewasreceivingforhisskincancerbenaudwhohadntreturnedtohiscommentaryjobfortheninenetworkfollowingacaraccidentinoctoberinwhichhesufferedseriousinjurieshadlookedincreasinglyfrailandhadlostweightbuthehadbeenoutwalkingwithhisbelovedwifedaphneforminuteseverymorninginthehopethathecouldreturntoworkscrolldownforvideoskincancerrichiebenaudpicturedatthescginjanuaryrevealedlatelastyearthathehadskincancerandwasreceivingradiationtreatmentadmittingthatasakidwenevereverworeacapbutusingtheopportunitytoadviseallaustralianstocovertheirheadsmarvellousrichiebenaudpicturedininbritainwhenhewascaptainingthetestseriesadmittedlastyearthathehadneverwornheadgearasayoungplayerbecausehehadbeeninfluencebylegendaryallrounderkeithmillersayingwheniwasakidyounevereverworeacapthatsbecausekeithmillerneverworeacapmasterofthemicrophonecricketfanspicturedapplaudingrichiebenaudashecoveredhislastmatchonenglishsoilattheovalinlondontheashestestbetweenenglandandaustraliainsupereffortavictoriousaustraliancaptainrichiebenaudleadshisteamfromthefieldatoldtraffordinafterwinningtheashesinthefourthtestagainstenglandinwhichhesensationallytookfivewicketsforrunsinballsinstigatingenglandscollapsemorningeverybodyrichiebenaudcommentatedcricketformorethanfourdecadesfollowingastellarcareerasatestcricketerduringwhichhebattedbowledandcaptainedaustraliafromthelatestohisretirementinbenaudhadbeendrivinghisbelovedcarasunbeamalpinebackfromhittingpracticegolfballsattheaustraliangolfclubinsydneywhenhelostcontrolandhitaparkedcarandthenasmallbrickfencehewashospitalisedwithshoulderspinalandchestinjuriesandabrokensternumhewassubsequentlydiagnosedwithskincancerandbegantreatmentlastyearrevealingthatdoctorswerepleasedwithhisprogresshetoldreporterslastnovemberhewascopingwithitverywellthecricketlegendsaidhebelievedthecancerswerecausedbyplayingcricketinthesunwithoutahatorsunscreenlonghistorybehindthemicrophonerichiebenaudlooksonduringthefifthtestmatchbetweenenglandandaustraliainaugustwearingoneofhistrademarklightcolouredjacketswhichwerehissignaturealongwithhisuniquecommentaryfanfavouriterichiebenaudwassuchalegendasacricetcommentatorinhistrademarkcreamjacketthatheinspiredalegionoffansdressedupinaustraliancricketfansdressedupandwearingsilverwigsandandcarryingfoammicrophonesattheashestestatthescginjanuarythevoiceofaustraliancricketrichiebenaudpicturedattheovalduringtheseptemberashestestwasoneofaustraliansportsgreatpersonalitiesandthebossofthecommentaryboxattestmatchesinaustraliaandbritainrichiebenaudpicturedwithworcestorcaptaindonkenyonbeforeanaustraliavworcestermatchinenglandcaptainedaustraliaandplayedtestmatchesinthelatesandtheearlyshelpingtorestorethecountrysreputationasacricketingnationwhatacatchrichiebenaudpicturedwithhisbelovedwifedaphneatrandwickracecourseinsaidthatfollowingaseriouscarcrashandthentreatmentforskincancerheanddaphnehadbeenwalkingforminutesadaytoeasehimbacktogoodhealthinthehopehecouldreturntothecommentaryboxtheformeraustraliantestcricketerseizedontheopportunitytoencourageaustralianstoprotectthemselvesfromthesunirecommendtoeveryonetheywearprotectionontheirheadshesaideightyfouryearoldsdontseemtomendaswellastheyusedtohesaidhewasstillrecoveringfromthecaraccidentinjurieswhichincludedtwofracturedvertebraehoweverheexpressedthebeliefhewouldmakeareturntocoverthefourthtestagainstindiaatthescginsydneyandhadbeenoutwalkingwithhisbelovedwifedaphneeverymorninginanefforttoregainhishealthheroworshipfansdressedasrichiebenaudinsilverwigsandcreamorbeigesportsjacketsholdaloftimitationninenetworkmicrophonesatthesydneytestmatchinjanuarylegendamonglegendsbenaudatthescgwithfellowcricketersturnedcommentatorsianhealeymichaelslaterbrettleeianchappellandbilllawrydressedinpinkformcgrathfoundationdayduringthesydneytestbetweenaustraliaandsrilankainjanuaryprogressisslowhesaidivebeendoingalotofwalkingweareouteverymorningdoingminutewalkseverymorninganditsshowingbeneficialeffectswithouttheinformationonskincancerdangernowavailableduringhisplayingdaysbenaudrevealedhewasinfluencedbytheexampleofgreatallrounderkeithmillerwheniwasakidyounevereverworeacapnotaflashonebenaudsaidthatsbecausekeithmillerneverworeacaparthurmorrisdidwhenhewentouttobatwefollowvariouspeopleandnuggetmillerneverworeanythingonhisheadsoididntiwishihadvalerichiebenaudbenaudpicturedinmorethanyearsafterhisretirementfromastellarcricketingcareerwhichhefollowedwithdecadesasoneofaustraliasmostlovedandrespectedcommentators 1873\n",
      "9209 defiantnigelfaragetodayinsistedhedidnotlosemyragafterroundingontheaudienceofalivetvdebateforbeingtooleftwingtheukipleaderwasbooedbyvotersatwestminstersmethodistcentralhallashefacedclaimsheblamedallofbritainsproblemsonmigrantspollstericmwhichwashiredbythebbctoselecttheaudiencememberstodaydefendeditsprocessusingrandomlocationselectiontechniquesnigelfaragetodayinsistedhedidnotlosemyragafterroundingontheaudienceofalivetvdebateforbeingtooleftwingmrfaragepicturedtodayriskedalienatingthosewatchingatwestminsterscentralhallinlondonasheprotestedtheywerearemarkableaudienceevenbytheleftwingstandardsofthebbcthebbcstressedthattheaudiencewascarefullyselectedbyanprocessbutmrfaragesaidsomethinghadgonewrongwiththeprocessaskedwhetherhehadlosthistempermrfaragetoldthebbcnewschanneliwasverycalmaboutitididntlosemyraghesaidhisprotesthadbeensparkedbythehostileaudiencereactiontohisargumentthathighlevelsofimmigrationwereincreasingpressureonthehousingmarketsomethinghesaidwouldbeacceptedbymostrationalpeopleandheaddedthisisnotthefirsttimeiveseenthisthenightofthebyelectionthatdouglascarswellwoninclactonwithalandslidetherewasaukiprepresentativepatrickoflynnonquestiontimeinclactonandtheaudienceweredeeplyhostiletohimaskedifheblamedthebbcmrfaragesaidsometimesthesethingsgowrongsometimesyougetgroupswhoapplytobeonprogrammeswhoperhapsarentastruthfulontheirapplicationsastheycouldbeinthiscasethebbcgavethejobtoapollingcompanycalledicmwhoarefamousforgettingeverythingaboutukipwrongandthatithinkwasthemistakeamigoingtomakeacomplaintivegotanelectiontofightwhatmattersisntthepeopleintheroomwhatreallymattersarethemillionsofpeoplewatchingontelevisionmrfaragesoutburstcamelessthanhalfanhourintotheeventaftersomeofhiscommentsaboutpressureonhousingduetoimmigrationweregreetedwithmuttersfromthosewatchingindependentpollstersicmwerehiredbythebbctoselecttheaudienceofaroundpeopleafterfacingstiffcriticismfromukipthefirmtodayreleasedastatementonhowitchosetheaudiencememberstheywereselectedfromamileradiusofthevenueinwestminstertheregionwasbrokenupintosmallareasandatleastpeoplewerechosenfromeachareaeachpersonwasselectedtoreflectthecompositionoftheukpopulationbygenderageethnicityandsocialgradeandpoliticalprotocolsthatreflectedthebalanceasagreedbetweenthebroadcastersandthepoliticalpartiesicmsaidafifthofthepeopledeclaredthemselvestobeundecidedvotersasmallnumberofsnpandplaidcymrusupporterswerebroughtinfromscotlandandwalesicmaddedtherecruitmentapproachreplicatedthoseusedbyicmatalltheleaderdebatesboththecleggvsfaragedebateslastyearandtherecentitvdebatemrfaragewaswidelyconsideredtohavewonthedebatesagainstnickclegglastyearafterwhichtheukipleadermadenocomplaintabouttheaudiencecompositionlastnightsawfiveoppositionpartyleadersgoheadtoheadinaminutelivetvdebatemrfarageappearedalongsidelaboursedmilibandsnpleadernicolasturgeongreennataliebennettandplaidcymrusleannewoodduringtheearlierexchangestheleadersonmrfarageforhisantiimmigrationpoliciesattractingapplausefromtheaudiencemrfaragewastakenabackandattackedatotallackofcomprehensionfromthosewatchingandprotestedtheywerearemarkableaudienceevenbytheleftwingstandardsofthebbchisoutburstcamelessthanhalfanhourintotheeventaftersomeofhiscommentsaboutpressureonhousingduetoimmigrationweregreetedwithmuttersfromthosewatchingmrfaragewarnedthatforeignersarrivingintheukhasdirectlycontributedtothehousingcrisisbuthecameunderfireforlinkingallofthecountriesproblemstoimmigrationgreenpartyleadernataliebennetttookaswipeatmrfaragethereissomeonehereonthisplatformwhowantstototallydemonisemigrantsandyouknowwhoimeanshehitbackatclaimsmigrantsarecausingacrisisinthehealthserviceoneinfourdoctorsisforeignbornpercentofnhsstaffareforeignbornmrmilibandsaidtoldmrfarageyouabuseimmigrantsandthosewithhivandthenyoucomplainthatukipisbeingabusedmisssturgeonwonloudapplauseassheurgedmrfaragetoputthebogeymantoonesideshetoldhimwehaveahousingcrisisacrossthiscountryyouknowwhatnigelfarageitisntcausedbyimmigrantsinyourworldeveryproblemiscausedbyimmigrantsbutmrfarageclaimedtheaudiencewasbiasedagainsthimtherejustseemstobeatotallackofcomprehensiononthispanelandindeedamongstthisaudiencewhichisaremarkableaudienceevenbytheleftwingstandardsofthebbcmrfaragewasheckledbymembersoftheaudiencebeforedaviddimblebywhowaspresentingthebroadcastonbbcintervenedtosaynigelletmejustsayonethingthisisanaudiencethathasbeencarefullychosennotbythebbcbutbyanindependentpollingorganisationtorepresentthebalancebetweenallpartieslabourleaderedmilibandgavetheukipleadertheadviceitsneveragreatideatoattacktheaudiencenigelinmyopinionbutmrfarageretortedtherealaudiencearesittingathomeexplanationmrfaragewasheckledbeforedaviddimblebywhowaspresentingthebroadcastonbbcintervenedtosayhowtheaudiencehadbeenchosenthebbcinsiststheaudiencewascarefullyselectedbyanindependentpollsterbutmrfaragesaidsomethinghadgonewrongwiththeprocessunimpressedukipvotermikecrippsaukipvoterhasinsistedheishavingsecondthoughtsaboutbackingthepartyafternigelfarageattackedthestudioaudiencesecurityworkermikecrippsofbromleysoutheastlondonbelievedtheukipleaderhaddoneacoupleofstupidthingsthefirstwashiscommentontheaudienceandthesecondwasraisinghisviewsonpeoplewithhivvisitingtheukfornhstreatmentmrcrippssaidaskedifmrfaragesremarkshadputhimoffsupportingukipmrcrippssaiditdidabityeahidontthinkheputhimselfacrossrightifwerejusttalkingaboutthedebatetonightitswhatweshouldbetalkingaboutnotwhathesdonesixyearsagoortwoyearsagooryesterdayformenicolasturgeonwasthebestshewasslickshewaswellpreparedshehadbeenwellbriefedthatsmypersonalopinionedmilibanditwaslikehewasreadingoffascriptthebbcinsistedtheaudiencehadbeenchosenbyanindependentpollingorganisationtoreflectthesupportersofallpartiesnotjustthoserepresentedbytheirleaderslastnightaspokesmanforthecorporationtoldmailonlineyesterdayicmrecruitedanaudiencetogiveacrosssectionofpoliticalopinionicmapublicopinionresearchcompanyfoundedinwasunavailableforcommentlastnightukipmeanwhilewassaidtobepressingforaninquiryintohowtheaudiencewaschosenaskedafterthedebateaboutmrfaragescriticismoftheaudienceukipdeputyleaderpaulnuttallsaidiamnotsurewhetherwewillcomplainalliwillsayisididntthinktheaudiencewasrepresentativeoftheviewsofbritishpeopleithinknigelfaragewouldhavedoneverywellwithpeoplesittingathomemrnuttallsaidhehadspokenaboutthingswhichhadhappenedtohimonquestiontimetellingreporterswhoknowsmaybesomepeoplearebeingdisingenuousontheirapplicationformsaskedifadoptinganattackontheaudiencewasaneasygetoutclausefordismissingoppositiontoukipsviewsheaddedohnopeopleathomeagreewithusandthatswhatreallymattersthemillionsofpeopleathomewatchingthisweknowforexampleonimmigrationontheeuropeanuniontheyagreewithwhereukipstandswhattheaudienceinherereallythinkisisupposeirrelevanttweetingduringthedebatelordashcroftsaidaminorityviewonceagainnigelfaragehavingagoatthebbcaudiencemaywellappealtotheviewerswhosevoteheistargetingandskynewspresenterkayburleytweetedfaragehavingapopatbalanceofaudiencedodgygroundtherebroadcastersjumpthroughhoopstomakesurestudioisfairastheendcreditsrolledfollowingthebbcdebatelastnightfourofthefivepartyleadersshookhandswitheachotherbutmrfaragejustdrankfromaglassofwaterfrombehindhisstandasmissbennettandmisswoodwalkedawaymisssturgeonthenwenttoshakemrfarageshandandmrmilibandofferedtheukipleaderapatonthebackthenalloftheleaderswenttotheaudiencetoshaketheirhandswiththeexceptionagainofmrfarageheshookhandswithmrdimblebybeforeleavingwithoutgoinguptotheaudienceleftaloneastheendcreditsrolledfollowingthebbcdebatelastnightfourofthefivepartyleadersshookhandswitheachotherbutmrfaragejustdrankfromaglassofwaterfrombehindhisstandalloftheleaderswenttotheaudiencetoshaketheirhandswiththeexceptionagainofmrfarageheshookhandswithmrdimblebybeforeleavingwithoutgoinguptotheaudience 7700\n",
      "9974 thepodiumgirlisthecentreofasexismstormafterlewishamiltonsprayedchampagneinherfacesaidshewasntoffendedbyhisstuntandwasjustdoingherjobthebritishformularacerdrewcriticismfromaroundtheworldwhenheaimedthefizzdirectlyasthefaceofyearoldgridgirlliusiyingwhowaspicturedlookinglessthanimpressedbuttheshanghaiinstituteofvisualartgraduatewhowasapodiumgirlatthechinesegrandprixsaidshedidntthinkmuchabouttheincidentandwasntannoyedscrolldownforvideoliusiyingwaspicturedgrimacingaslewishamiltonsprayedchampagneatherfaceafterwinningtheracesexismcampaignerscalledhamiltonsbehaviourselfishbutsiyingsaidshedidnotthinktoomuchaboutitthehostesswhohasadegreesaidiwastoldbymyemployertostandonthepodiumandthatswhatididitlastedforonlyoneortwosecondsandididnotthinktoomuchaboutitatallmisssiyingtoldtheshanghaidailyithinksomeforeignmediaaremoresensitiveaboutthetopiccomparedtolocalmediaiwasjusttoldbymyemployertostandonthepodiumandthatswhatididmisssiyinghadaskedtoworkasapodiummodelonthestageofthechinesegrandprixinshanghaibecauseshewasafanoffinnishdriverkimiraikkonenaftertheincidentonsundayobjectacampaigngroupagainstsexismcondemnedthebehaviourofthedriverasselfishandinconsiderateandcalledonhamiltontoapologisetothegraduateothershavecalledthedrivingaceanembarrassmenttotheukwhileanothersaidhisactionsshowedthathewasanignorantclownscrolldownforvideoitsnotthefirsttimeracingacelewishamiltonhassprayedagridgirlwithbubblyhesalsodoneitafterwinningthespanishgrandprixandevenattheaustriangrandprixwherehelostoutonthetopspotafterseeingthepicturesthechiefexecutiveofcampaigngroupobjectaskedforhamiltontoapologisespeakingonmondayrozhardiechiefexecutiveofobjectsaidmisssiyingwouldhavehadittlechoicebuttostandthereandtakeitshesaidthephotographsappeartoshowthatthewomanisnotjustbeingsplashedbutthatthechampagneisbeingveryspecificallydirectedintoherfacewhichdoesnotlooklikeavoluntarypieceofhorseplayonherpartifthisifthecasewethinklewishamiltonshouldapologiseforhisactionsandthinkcarefullyabouthowhebehavesinthefutureformostpeopleitwouldbeapparentthatsheisnotenjoyingititissurelyaverydifficultpositiontobeagridgirlandshewouldhavehadlittleoptionbuttostandthereandtakeitthatissomethingofwhichheshouldbeawarebutinsteadheappearstohaveabusedherpositionitsunfortunatethatagreatvictoryhasbeenmarredbywhatappearstobeselfishandinconsideratebehaviourmshardieaddedthattheepisodehighlightedthemoregeneralissueofwomenbeingviewedassexualobjectsinthemotoringworldshesaidmotorracingappearstounnecessarilyportraywomenassexualisedobjectsandthatprobablymakesitevenharderforthewomentostandupforthemselveswewouldhopepeopleintheindustrywouldberespectfultothesewomenontwitterhamiltonwasdescribedasabullyanddisgustinganotherusersimplysaidmanpleasestopsprayingchampagneonthepodiumladiestheydontlikeitwhileoneoutragedusersaidhewasascumbaganembarrassmenttoukanotherwrotehaveabitmorerespectfortheladiespleasesprayingchampagneinherfacewasoutoforderchildidiotandonetweetedshameonyoufandlewishamiltonfordisgracefultreatmentofwomenduringchampagnecelebrationsexismitisnotthefirsttimetheracingiconhaswhippedouthisvictorymovehecelebratedinasimilarfashionafterwinningspanishgrandprixlastyearwhichwashisfourthconsecutivewininarowandtheonethatfinallyputhimontopoftheworldchampionshiptableandalthoughhelosttheaustriangrandprixtoteammatenicorosberghedidntshyawayfrompoppingthecorkdirectlyatahostesstheyearoldwasevenaskedtodemonstratehischampagneskillsongrahamnortonstalkshowinhamiltonalsosprayedahostessatmontmeloafterwinningthespanishgrandprixatcircuitdecatalunyabutnoteveryonewasoffendedbyhisbehaviourmanyfoundhisactionsamusingwhileanothersaidicanthinkofworsethingstohappenatworkthangettingsprayedinthefacewithchampagnebylewishamiltonlightenuppeoplehamiltoncontrolledthecontestinshanghaitosealhissecondvictoryinthreeracesandextendhisleadatthesummitoftheformulaoneworldchampionshipyesterdaybutitwasntallsmilesatyesterdaysraceafteraseriousfeudwassparkedbetweenhamiltonandhisteammatenicorosbergfollowingapressconferencehismercedespartneraccusedhimofseverelycompromisinghisstrategyandleavinghimunderunnecessarypressurefromferrarissebastianvettelwiththetopthreedriverscoveredbyonlysecondsaheadofthefinalroundofpitstopsrosbergreportedontheradiothatlewisisdrivingveryslowlytellhimtospeeduphamiltonseeminglyprotectinghistyreswasgiventhehurryupbymercedesandbothheandrosbergeventuallyemergedfromtheirfinalpitstopfirstandsecondwithvettelthirdtheworldchampionsittingbesidehisteammatetoldthepressconferenceyesterdayiwasntcontrollinghisraceiwascontrollingmyownracemygoalwastolookaftermycarihadnorealthreatfromnicothroughoutthewholeraceitwasntallsmilesafteraseriousfeudwassparkedbetweenhamiltonandhisteammatenicorosbergthemercedesdriverposeswithhistrophyandchampagnebottleonthepodiumafterwinningonsundayavisiblyangryrosbergreplieditsjustnowinterestingtohearfromyoulewisthatyouwerejustthinkingaboutyourselfwiththepaceinfrontwhenthatwascompromisingmyracedrivingslowerthanwasmaybenecessaryinthebeginningofthestintmeantsebastianwasclosetomeanditopeneduptheopportunityforsebastiantotryanearlypitstoptotryandjumpmeandthenihadtocoverhimitwasunnecessarilyclosewithsebastianasaresultandalsoitcostmealotofracetimebecauseihadtocoverhimthenmytyresdiedattheendoftheracebecausemystintwasjustsomuchlongersoimunhappyaboutthatthespathasreopenedthewoundsfromlastyearwhenbothmentriedtooutmanoeuvreandattimesoutpyschoneanotherastheirbattleforthetitleunfoldeditculminatedinthepaircollidingwithoneanotherinthebelgiangrandprixresultinginrosbergbeingreprimandedandsanctionedbytheteamthisprovedtobeaturningpointinthechampionshipashamiltonwentontodominatetheclosingracesenroutetotakinghissecondcrownnicorosbergaccusedhamiltonofseverelycompromisinghisstrategyandleavinghimunderpressure 2849\n"
     ]
    }
   ],
   "source": [
    "index_of_article = dict()\n",
    "for index,s in enumerate(article_sorted):\n",
    "    if s[:400] in index_of_article:\n",
    "        print(index,s,index_of_article[s[:400]])\n",
    "    index_of_article[s[:400]]=index"
   ]
  },
  {
   "cell_type": "code",
   "execution_count": 7,
   "metadata": {
    "ExecuteTime": {
     "end_time": "2019-12-28T03:25:19.661040Z",
     "start_time": "2019-12-28T03:25:19.655753Z"
    }
   },
   "outputs": [
    {
     "data": {
      "text/plain": [
       "11048"
      ]
     },
     "execution_count": 7,
     "metadata": {},
     "output_type": "execute_result"
    }
   ],
   "source": [
    "len(index_of_article)"
   ]
  },
  {
   "cell_type": "code",
   "execution_count": 375,
   "metadata": {
    "ExecuteTime": {
     "end_time": "2019-12-24T09:20:35.311810Z",
     "start_time": "2019-12-24T09:20:35.292230Z"
    }
   },
   "outputs": [],
   "source": [
    "s_list = [\"\" for _ in range(11490)]\n",
    "for i in range(11490):\n",
    "    index = index_of_article[article[i][:100]]\n",
    "    while s_list[index] != \"\":\n",
    "        index -= 1\n",
    "        if index == 11490:\n",
    "            index = 11489\n",
    "            break\n",
    "    s_list[index] = pred[i]"
   ]
  },
  {
   "cell_type": "code",
   "execution_count": 385,
   "metadata": {
    "ExecuteTime": {
     "end_time": "2019-12-24T09:23:19.553322Z",
     "start_time": "2019-12-24T09:23:19.542864Z"
    }
   },
   "outputs": [],
   "source": [
    "with open(\"./result/cnndm/pred_PointerGenerator.txt\",\"w\") as f:\n",
    "    for s in s_list:\n",
    "        f.write(s)\n",
    "        if s[-1]!=\"\\n\":\n",
    "            f.write(\"\\n\")"
   ]
  }
 ],
 "metadata": {
  "kernelspec": {
   "display_name": "Python 3",
   "language": "python",
   "name": "python3"
  },
  "language_info": {
   "codemirror_mode": {
    "name": "ipython",
    "version": 3
   },
   "file_extension": ".py",
   "mimetype": "text/x-python",
   "name": "python",
   "nbconvert_exporter": "python",
   "pygments_lexer": "ipython3",
   "version": "3.7.4"
  },
  "latex_envs": {
   "LaTeX_envs_menu_present": true,
   "autoclose": false,
   "autocomplete": true,
   "bibliofile": "biblio.bib",
   "cite_by": "apalike",
   "current_citInitial": 1,
   "eqLabelWithNumbers": true,
   "eqNumInitial": 1,
   "hotkeys": {
    "equation": "Ctrl-E",
    "itemize": "Ctrl-I"
   },
   "labels_anchors": false,
   "latex_user_defs": false,
   "report_style_numbering": false,
   "user_envs_cfg": false
  }
 },
 "nbformat": 4,
 "nbformat_minor": 2
}
